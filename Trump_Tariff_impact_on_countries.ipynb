{
  "nbformat": 4,
  "nbformat_minor": 0,
  "metadata": {
    "colab": {
      "provenance": [],
      "authorship_tag": "ABX9TyPi1HgOJwhwLraiSvfKRDRh",
      "include_colab_link": true
    },
    "kernelspec": {
      "name": "python3",
      "display_name": "Python 3"
    },
    "language_info": {
      "name": "python"
    }
  },
  "cells": [
    {
      "cell_type": "markdown",
      "metadata": {
        "id": "view-in-github",
        "colab_type": "text"
      },
      "source": [
        "<a href=\"https://colab.research.google.com/github/YashMajithia/Stock-Market-Index-Changes-Post-Tariff-Announcements/blob/main/Trump_Tariff_impact_on_countries.ipynb\" target=\"_parent\"><img src=\"https://colab.research.google.com/assets/colab-badge.svg\" alt=\"Open In Colab\"/></a>"
      ]
    },
    {
      "cell_type": "code",
      "execution_count": 5,
      "metadata": {
        "id": "rHgNTL99sfxZ"
      },
      "outputs": [],
      "source": [
        "#importing necessary libraries\n",
        "import yfinance as yf\n",
        "import pandas as pd\n",
        "from datetime import datetime, timedelta"
      ]
    },
    {
      "cell_type": "code",
      "source": [
        "#Configuration\n",
        "#defining the stock indexes to track and using ticker symbols for each index\n",
        "INDEX_TICKERS = {\n",
        "    'S&P 500':'^GSPC',\n",
        "    'FTSE 100':'^FTSE',\n",
        "    'Nikkei 225':'^N225',\n",
        "    'DAX':'^GDAXI',\n",
        "    'Shanghai Composite':'000001.SS'\n",
        "}"
      ],
      "metadata": {
        "id": "fmg6hzk80aON"
      },
      "execution_count": 6,
      "outputs": []
    },
    {
      "cell_type": "code",
      "source": [
        "#defining key tariff announcement dates and brief description\n",
        "TARIFF_ANNOUNCEMENTS = {\n",
        "    '2025-02-01':'Tariffs on Mexican, Canadian, and Chinese goods',\n",
        "    '2025-02-10':'Tariffs on steel and aluminium',\n",
        "    '2025-04-02':'Global Tariffs with a 10% baseline'\n",
        "}"
      ],
      "metadata": {
        "id": "hOlDQsn7l5yH"
      },
      "execution_count": 7,
      "outputs": []
    },
    {
      "cell_type": "code",
      "source": [
        "#defining analysis window in days\n",
        "ANALYSIS_WINDOW_DAYS = 30\n",
        "\n",
        "def get_market_data(ticker, start_date, end_date):\n",
        "    \"\"\"\n",
        "    Fetches historical market data for a given stock ticker within a specified date range.\n",
        "    \"\"\"\n",
        "    try:\n",
        "      data = yf.download(ticker, start=start_date, end=end_date)\n",
        "      return data\n",
        "    except Exception as e:\n",
        "      print(f\"Error fetching data for {ticker}: {e}\")\n",
        "      return None\n",
        "def analyze_impact():\n",
        "  \"\"\"\n",
        "  Analyzes the market index movements for each tariff announcement.\n",
        "  \"\"\"\n",
        "  print(\"Starting market impact analysis...\\n\")\n",
        "\n",
        "  for date_str, description in TARIFF_ANNOUNCEMENTS.items():\n",
        "    print(f\"---Event: {description} (Date: {date_str}) ---\")\n",
        "    event_date = datetime.strptime(date_str, '%Y-%m-%d')\n",
        "\n",
        "    start_analysis = event_date - timedelta(days = ANALYSIS_WINDOW_DAYS)\n",
        "    end_analysis = event_date + timedelta(days = ANALYSIS_WINDOW_DAYS)\n",
        "\n",
        "    for name, ticker in INDEX_TICKERS.items():\n",
        "      print(f\"\\nAnalyzing {name} ({ticker})...\")\n",
        "\n",
        "      #fetching data for the period\n",
        "      market_data = get_market_data(\n",
        "          ticker,\n",
        "          start_analysis.strftime('%Y-%m-%d'),\n",
        "          end_analysis.strftime('%Y-%m-%d')\n",
        "      )\n",
        "\n",
        "      if market_data is None:\n",
        "        continue\n",
        "\n",
        "      #calculating the % change from the event date's closing price\n",
        "      try:\n",
        "        first_day_after = market_data.loc[market_data.index >= date_str].iloc[0]\n",
        "        last_day_in_window = market_data.iloc[-1]\n",
        "\n",
        "        start_price = first_day_after['Close'].item()\n",
        "        end_price = last_day_in_window['Close'].item()\n",
        "\n",
        "        percentage_change = ((end_price - start_price)/ start_price) *100\n",
        "\n",
        "        print(f\"  Start price on {first_day_after.name.strftime('%Y-%m-%d')}: {start_price:.2f}\")\n",
        "        print(f\"  End price on {last_day_in_window.name.strftime('%Y-%m-%d')}: {end_price:.2f}\")\n",
        "        print(f\"  Percentage change over {ANALYSIS_WINDOW_DAYS} days: {percentage_change:.2f}%\")\n",
        "\n",
        "      except IndexError:\n",
        "        print(\" Could not find valid start and end prices for analysis period. Data might be incomplete.\")\n",
        "      except Exception as e:\n",
        "        print(f\"  An error occurred during calculation for {name}: {e}\")\n",
        "\n",
        "    print(\"\\n\" + \"=\"*50 + \"\\n\")\n",
        "\n",
        "if __name__ == '__main__':\n",
        "  analyze_impact()"
      ],
      "metadata": {
        "colab": {
          "base_uri": "https://localhost:8080/"
        },
        "id": "r0CcsV-pnBZS",
        "outputId": "e1bacf08-554e-4c77-8d91-fb1835199f92"
      },
      "execution_count": 9,
      "outputs": [
        {
          "output_type": "stream",
          "name": "stderr",
          "text": [
            "/tmp/ipython-input-2710273477.py:9: FutureWarning: YF.download() has changed argument auto_adjust default to True\n",
            "  data = yf.download(ticker, start=start_date, end=end_date)\n",
            "[*********************100%***********************]  1 of 1 completed\n",
            "/tmp/ipython-input-2710273477.py:9: FutureWarning: YF.download() has changed argument auto_adjust default to True\n",
            "  data = yf.download(ticker, start=start_date, end=end_date)\n",
            "[*********************100%***********************]  1 of 1 completed\n",
            "/tmp/ipython-input-2710273477.py:9: FutureWarning: YF.download() has changed argument auto_adjust default to True\n",
            "  data = yf.download(ticker, start=start_date, end=end_date)\n",
            "[*********************100%***********************]  1 of 1 completed\n",
            "/tmp/ipython-input-2710273477.py:9: FutureWarning: YF.download() has changed argument auto_adjust default to True\n",
            "  data = yf.download(ticker, start=start_date, end=end_date)\n",
            "[*********************100%***********************]  1 of 1 completed\n",
            "/tmp/ipython-input-2710273477.py:9: FutureWarning: YF.download() has changed argument auto_adjust default to True\n",
            "  data = yf.download(ticker, start=start_date, end=end_date)\n",
            "[*********************100%***********************]  1 of 1 completed\n",
            "/tmp/ipython-input-2710273477.py:9: FutureWarning: YF.download() has changed argument auto_adjust default to True\n",
            "  data = yf.download(ticker, start=start_date, end=end_date)\n",
            "[*********************100%***********************]  1 of 1 completed\n",
            "/tmp/ipython-input-2710273477.py:9: FutureWarning: YF.download() has changed argument auto_adjust default to True\n",
            "  data = yf.download(ticker, start=start_date, end=end_date)\n",
            "[*********************100%***********************]  1 of 1 completed"
          ]
        },
        {
          "output_type": "stream",
          "name": "stdout",
          "text": [
            "Starting market impact analysis...\n",
            "\n",
            "---Event: Tariffs on Mexican, Canadian, and Chinese goods (Date: 2025-02-01) ---\n",
            "\n",
            "Analyzing S&P 500 (^GSPC)...\n",
            "  Start price on 2025-02-03: 5994.57\n",
            "  End price on 2025-02-28: 5954.50\n",
            "  Percentage change over 30 days: -0.67%\n",
            "\n",
            "Analyzing FTSE 100 (^FTSE)...\n",
            "  Start price on 2025-02-03: 8583.60\n",
            "  End price on 2025-02-28: 8809.70\n",
            "  Percentage change over 30 days: 2.63%\n",
            "\n",
            "Analyzing Nikkei 225 (^N225)...\n",
            "  Start price on 2025-02-03: 38520.09\n",
            "  End price on 2025-02-28: 37155.50\n",
            "  Percentage change over 30 days: -3.54%\n",
            "\n",
            "Analyzing DAX (^GDAXI)...\n",
            "  Start price on 2025-02-03: 21428.24\n",
            "  End price on 2025-02-28: 22551.43\n",
            "  Percentage change over 30 days: 5.24%\n",
            "\n",
            "Analyzing Shanghai Composite (000001.SS)...\n",
            "  Start price on 2025-02-05: 3229.49\n",
            "  End price on 2025-02-28: 3320.90\n",
            "  Percentage change over 30 days: 2.83%\n",
            "\n",
            "==================================================\n",
            "\n",
            "---Event: Tariffs on steel and aluminium (Date: 2025-02-10) ---\n",
            "\n",
            "Analyzing S&P 500 (^GSPC)...\n",
            "  Start price on 2025-02-10: 6066.44\n",
            "  End price on 2025-03-11: 5572.07\n",
            "  Percentage change over 30 days: -8.15%\n",
            "\n",
            "Analyzing FTSE 100 (^FTSE)...\n",
            "  Start price on 2025-02-10: 8767.80\n",
            "  End price on 2025-03-11: 8496.00\n",
            "  Percentage change over 30 days: -3.10%\n",
            "\n",
            "Analyzing Nikkei 225 (^N225)...\n"
          ]
        },
        {
          "output_type": "stream",
          "name": "stderr",
          "text": [
            "\n",
            "/tmp/ipython-input-2710273477.py:9: FutureWarning: YF.download() has changed argument auto_adjust default to True\n",
            "  data = yf.download(ticker, start=start_date, end=end_date)\n",
            "[*********************100%***********************]  1 of 1 completed\n",
            "/tmp/ipython-input-2710273477.py:9: FutureWarning: YF.download() has changed argument auto_adjust default to True\n",
            "  data = yf.download(ticker, start=start_date, end=end_date)\n",
            "[*********************100%***********************]  1 of 1 completed\n",
            "/tmp/ipython-input-2710273477.py:9: FutureWarning: YF.download() has changed argument auto_adjust default to True\n",
            "  data = yf.download(ticker, start=start_date, end=end_date)\n",
            "[*********************100%***********************]  1 of 1 completed\n",
            "/tmp/ipython-input-2710273477.py:9: FutureWarning: YF.download() has changed argument auto_adjust default to True\n",
            "  data = yf.download(ticker, start=start_date, end=end_date)\n",
            "[*********************100%***********************]  1 of 1 completed\n",
            "/tmp/ipython-input-2710273477.py:9: FutureWarning: YF.download() has changed argument auto_adjust default to True\n",
            "  data = yf.download(ticker, start=start_date, end=end_date)\n",
            "[*********************100%***********************]  1 of 1 completed\n",
            "/tmp/ipython-input-2710273477.py:9: FutureWarning: YF.download() has changed argument auto_adjust default to True\n",
            "  data = yf.download(ticker, start=start_date, end=end_date)\n",
            "[*********************100%***********************]  1 of 1 completed\n",
            "/tmp/ipython-input-2710273477.py:9: FutureWarning: YF.download() has changed argument auto_adjust default to True\n",
            "  data = yf.download(ticker, start=start_date, end=end_date)\n",
            "[*********************100%***********************]  1 of 1 completed\n",
            "/tmp/ipython-input-2710273477.py:9: FutureWarning: YF.download() has changed argument auto_adjust default to True\n",
            "  data = yf.download(ticker, start=start_date, end=end_date)\n",
            "[*********************100%***********************]  1 of 1 completed"
          ]
        },
        {
          "output_type": "stream",
          "name": "stdout",
          "text": [
            "  Start price on 2025-02-10: 38801.17\n",
            "  End price on 2025-03-11: 36793.11\n",
            "  Percentage change over 30 days: -5.18%\n",
            "\n",
            "Analyzing DAX (^GDAXI)...\n",
            "  Start price on 2025-02-10: 21911.74\n",
            "  End price on 2025-03-11: 22328.77\n",
            "  Percentage change over 30 days: 1.90%\n",
            "\n",
            "Analyzing Shanghai Composite (000001.SS)...\n",
            "  Start price on 2025-02-10: 3322.17\n",
            "  End price on 2025-03-11: 3379.83\n",
            "  Percentage change over 30 days: 1.74%\n",
            "\n",
            "==================================================\n",
            "\n",
            "---Event: Global Tariffs with a 10% baseline (Date: 2025-04-02) ---\n",
            "\n",
            "Analyzing S&P 500 (^GSPC)...\n",
            "  Start price on 2025-04-02: 5670.97\n",
            "  End price on 2025-05-01: 5604.14\n",
            "  Percentage change over 30 days: -1.18%\n",
            "\n",
            "Analyzing FTSE 100 (^FTSE)...\n",
            "  Start price on 2025-04-02: 8608.50\n",
            "  End price on 2025-05-01: 8496.80\n",
            "  Percentage change over 30 days: -1.30%\n",
            "\n",
            "Analyzing Nikkei 225 (^N225)...\n",
            "  Start price on 2025-04-02: 35725.87\n",
            "  End price on 2025-05-01: 36452.30\n",
            "  Percentage change over 30 days: 2.03%\n",
            "\n",
            "Analyzing DAX (^GDAXI)...\n",
            "  Start price on 2025-04-02: 22390.84\n",
            "  End price on 2025-04-30: 22496.98\n",
            "  Percentage change over 30 days: 0.47%\n",
            "\n",
            "Analyzing Shanghai Composite (000001.SS)...\n",
            "  Start price on 2025-04-02: 3350.13\n",
            "  End price on 2025-04-30: 3279.03\n",
            "  Percentage change over 30 days: -2.12%\n",
            "\n",
            "==================================================\n",
            "\n"
          ]
        },
        {
          "output_type": "stream",
          "name": "stderr",
          "text": [
            "\n"
          ]
        }
      ]
    }
  ]
}